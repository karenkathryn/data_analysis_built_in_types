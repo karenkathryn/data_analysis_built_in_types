{
 "cells": [
  {
   "cell_type": "markdown",
   "metadata": {},
   "source": [
    "# Data analysis in Python using built-in types\n",
    "\n",
    "-----\n",
    "\n",
    "## Learning Objectives\n",
    "\n",
    "* Using the command line to:\n",
    "    + make directories\n",
    "    + download files from internet\n",
    "    + unzip `.zip` files\n",
    "* Import a `.csv` file without [`pandas`](https://pandas.pydata.org/about.html) or [`numpy`](https://www.numpy.org/)\n",
    "* Perform data analysis using built-in types\n",
    "    + working with dates\n",
    "    + sorting dictionaries\n",
    "    + for loops and list comprehension\n",
    "    + visualizing data with [`matplotlib`](https://matplotlib.org/index.html)"
   ]
  },
  {
   "cell_type": "markdown",
   "metadata": {},
   "source": [
    "## Inspect Files in current working directory"
   ]
  },
  {
   "cell_type": "code",
   "execution_count": null,
   "metadata": {},
   "outputs": [],
   "source": [
    "!ls"
   ]
  },
  {
   "cell_type": "markdown",
   "metadata": {},
   "source": [
    "## Create a new `raw_data` directory"
   ]
  },
  {
   "cell_type": "code",
   "execution_count": null,
   "metadata": {},
   "outputs": [],
   "source": [
    "!mkdir raw_data"
   ]
  },
  {
   "cell_type": "markdown",
   "metadata": {},
   "source": [
    "Let's reinspect our working directory. By typing `ls -l`, we are getting more information about all files and folders such as when things were created."
   ]
  },
  {
   "cell_type": "code",
   "execution_count": null,
   "metadata": {},
   "outputs": [],
   "source": [
    "!ls -l"
   ]
  },
  {
   "cell_type": "markdown",
   "metadata": {},
   "source": [
    "## Install Homebrew\n",
    "\n",
    "[`homebrew`](https://brew.sh/) is the package manager for MacOS. This tutorial assumes that you have it installed on your machine.\n",
    "\n",
    "*If not, please uncomment and run the cell below to install `homebrew`.*"
   ]
  },
  {
   "cell_type": "code",
   "execution_count": null,
   "metadata": {},
   "outputs": [],
   "source": [
    "#/usr/bin/ruby -e \"$(curl -fsSL https://raw.githubusercontent.com/Homebrew/install/master/install)\""
   ]
  },
  {
   "cell_type": "markdown",
   "metadata": {},
   "source": [
    "## Download necessary data\n",
    "\n",
    "Let's download [King County, WA property sales data](https://info.kingcounty.gov/assessor/DataDownload/default.aspx) into our newly created `raw_data` directory. We'll be using the [`wget`](https://www.gnu.org/software/wget/) package to download local copies of files from the Internet. \n",
    "\n",
    "The default directory is the current working directory so we need to specify where `wget` should place the file via the `-P` flag.\n",
    "\n",
    "```\n",
    "# <> are placeholders so do not include them in your commands\n",
    "wget <url> -P <file path>\n",
    "```\n",
    "\n",
    "*If you don't have `wget`, uncomment the cell below to have `brew` install it for you.*"
   ]
  },
  {
   "cell_type": "code",
   "execution_count": null,
   "metadata": {},
   "outputs": [],
   "source": [
    "!brew install wget"
   ]
  },
  {
   "cell_type": "code",
   "execution_count": null,
   "metadata": {},
   "outputs": [],
   "source": [
    "!brew link --overwrite wget"
   ]
  },
  {
   "cell_type": "code",
   "execution_count": null,
   "metadata": {},
   "outputs": [],
   "source": [
    "!wget https://aqua.kingcounty.gov/extranet/assessor/Real%20Property%20Sales.zip -P raw_data/"
   ]
  },
  {
   "cell_type": "markdown",
   "metadata": {},
   "source": [
    "Let's inspect the contents of `raw_data` to verify that we have the data"
   ]
  },
  {
   "cell_type": "code",
   "execution_count": null,
   "metadata": {},
   "outputs": [],
   "source": [
    "!ls -l raw_data/"
   ]
  },
  {
   "cell_type": "markdown",
   "metadata": {},
   "source": [
    "### Unzip `raw_data/Real Property Sales.zip`\n",
    "\n",
    "Currently the data lives in a [`.zip`](http://cvs.bio.unc.edu/protocol/unzip-help/unzip-help.htm) file, which is essentially a layer that contains the actual data.\n",
    "\n",
    "To extract - or unpeel - the contents within the `.zip` file, we'll use the [`unzip`](https://formulae.brew.sh/formula/unzip) command. \n",
    "\n",
    "By specifying `-d raw_data/`, we're telling `unzip` to place the contents of `raw_data/Real Property Sales.zip` inside the `raw_data/` directory.\n",
    "\n",
    "*If you don't have `unzip`, uncomment the cell below to have `brew` install it for you.*"
   ]
  },
  {
   "cell_type": "code",
   "execution_count": null,
   "metadata": {},
   "outputs": [],
   "source": [
    "!brew install unzip"
   ]
  },
  {
   "cell_type": "code",
   "execution_count": null,
   "metadata": {},
   "outputs": [],
   "source": [
    "!unzip raw_data/Real\\ Property\\ Sales.zip -d raw_data/"
   ]
  },
  {
   "cell_type": "code",
   "execution_count": null,
   "metadata": {},
   "outputs": [],
   "source": [
    "After unzipping `raw_data/Real Property Sales.zip`, we now have access to the `raw_data/EXTR_RPSale.csv`."
   ]
  },
  {
   "cell_type": "code",
   "execution_count": 2,
   "metadata": {},
   "outputs": [
    {
     "name": "stdout",
     "output_type": "stream",
     "text": [
      "total 1879136\r\n",
      "-rw-r--r--  1 karenwarmbein  staff  543858664 Oct 25 21:57 EXTR_RPSale.csv\r\n",
      "-rw-r--r--  1 karenwarmbein  staff  125913704 Oct 26 03:35 Real Property Sales.zip\r\n",
      "-rw-r--r--  1 karenwarmbein  staff  125913704 Oct 26 03:35 Real Property Sales.zip.1\r\n",
      "-rw-r--r--  1 karenwarmbein  staff  125913704 Oct 26 03:35 Real Property Sales.zip.2\r\n"
     ]
    }
   ],
   "source": [
    "!ls -l raw_data/"
   ]
  },
  {
   "cell_type": "markdown",
   "metadata": {},
   "source": [
    "## Load necessary data\n",
    "\n",
    "> The `csv` module implements classes to read and write tabular data in CSV format. It allows programmers to say, “write this data in the format preferred by Excel,” or “read data from this file which was generated by Excel,” without knowing the precise details of the CSV format used by Excel. - [`csv` documentation](https://docs.python.org/3/library/csv.html)\n",
    "\n",
    "### Using the `csv` library\n",
    "\n",
    "The `csv` library contains objects and other code to read, write, and process data from and to CSV files. Essentially, we want to read each row in the `.csv` file and stores its information for later use. \n",
    "\n",
    "\n",
    "### How `csv` works\n",
    "\n",
    "The [`csv.DictReader()`](https://docs.python.org/3/library/csv.html#csv.DictReader) function creates an object that operates like a regular reader - where information is returned as [strings](https://docs.python.org/3.7/library/stdtypes.html#text-sequence-type-str) - but maps the information in each row to an [OrderedDict](https://docs.python.org/3/library/collections.html#collections.OrderedDict) whose keys are given by the optional `fieldnames` parameter. If `fieldnames` is omitted, the values in the first row of file f will be used as the fieldnames.\n",
    "\n",
    "Since each row is an `OrderedDict` object, we know that information in each dictionary will be in the same order as they appear within the `.csv` file.\n",
    "\n",
    "### Inspect the first two rows in the `raw_data/EXTR_RPSale.csv` file"
   ]
  },
  {
   "cell_type": "code",
   "execution_count": 4,
   "metadata": {},
   "outputs": [
    {
     "name": "stdout",
     "output_type": "stream",
     "text": [
      "\"ExciseTaxNbr\",\"Major\",\"Minor\",\"DocumentDate\",\"SalePrice\",\"RecordingNbr\",\"Volume\",\"Page\",\"PlatNbr\",\"PlatType\",\"PlatLot\",\"PlatBlock\",\"SellerName\",\"BuyerName\",\"PropertyType\",\"PrincipalUse\",\"SaleInstrument\",\"AFForestLand\",\"AFCurrentUseLand\",\"AFNonProfitUse\",\"AFHistoricProperty\",\"SaleReason\",\"PropertyClass\",\"SaleWarning\"\r",
      "\r\n",
      "\"2687551\",\"138860\",\"0110\",\"08/21/2014\",\"245000\",\"20140828001436\",\"   \",\"   \",\"      \",\" \",\"              \",\"       \",\"WENKLE NOEL SMITH -TRUSTEE                        \",\"ALEXANDER APRIL                                   \",\"3\",\"6\",\"3\",\"N\",\"N\",\"N\",\"N\",\"1\",\"8\",\" \"\r",
      "\r\n"
     ]
    }
   ],
   "source": [
    "!head -n 2 raw_data/EXTR_RPSale.csv"
   ]
  },
  {
   "cell_type": "markdown",
   "metadata": {},
   "source": [
    "Now that we know that the first row is the column headers, we can safely omit the `fieldnames` parameter knowing that `csv.DictReader()` will use the first row as the keys within each row."
   ]
  },
  {
   "cell_type": "code",
   "execution_count": 5,
   "metadata": {},
   "outputs": [],
   "source": [
    "import csv\n",
    "\n",
    "sales = []\n",
    "with open(\"raw_data/EXTR_RPSale.csv\") as csvfile:\n",
    "    reader = csv.DictReader(csvfile)\n",
    "    for row in reader:\n",
    "        sales.append(row)"
   ]
  },
  {
   "cell_type": "markdown",
   "metadata": {},
   "source": [
    "The contents of `sales[0]` is exactly the same as it was when we viewed the first two records of the `raw_data/EXTR_RPSale.csv` file from the command line."
   ]
  },
  {
   "cell_type": "code",
   "execution_count": 4,
   "metadata": {},
   "outputs": [
    {
     "data": {
      "text/plain": [
       "OrderedDict([('ExciseTaxNbr', '2687551'),\n",
       "             ('Major', '138860'),\n",
       "             ('Minor', '0110'),\n",
       "             ('DocumentDate', '08/21/2014'),\n",
       "             ('SalePrice', '245000'),\n",
       "             ('RecordingNbr', '20140828001436'),\n",
       "             ('Volume', '   '),\n",
       "             ('Page', '   '),\n",
       "             ('PlatNbr', '      '),\n",
       "             ('PlatType', ' '),\n",
       "             ('PlatLot', '              '),\n",
       "             ('PlatBlock', '       '),\n",
       "             ('SellerName',\n",
       "              'WENKLE NOEL SMITH -TRUSTEE                        '),\n",
       "             ('BuyerName',\n",
       "              'ALEXANDER APRIL                                   '),\n",
       "             ('PropertyType', '3'),\n",
       "             ('PrincipalUse', '6'),\n",
       "             ('SaleInstrument', '3'),\n",
       "             ('AFForestLand', 'N'),\n",
       "             ('AFCurrentUseLand', 'N'),\n",
       "             ('AFNonProfitUse', 'N'),\n",
       "             ('AFHistoricProperty', 'N'),\n",
       "             ('SaleReason', '1'),\n",
       "             ('PropertyClass', '8'),\n",
       "             ('SaleWarning', ' ')])"
      ]
     },
     "execution_count": 4,
     "metadata": {},
     "output_type": "execute_result"
    }
   ],
   "source": [
    "sales[0]"
   ]
  },
  {
   "cell_type": "markdown",
   "metadata": {},
   "source": [
    "## Data Analysis\n",
    "\n",
    "Now that you have all the property sales data from King County, WA within the list `sales`, you can finally start to perform some data analysis."
   ]
  },
  {
   "cell_type": "markdown",
   "metadata": {},
   "source": [
    "### 1. For each year, how many houses were sold?"
   ]
  },
  {
   "cell_type": "markdown",
   "metadata": {},
   "source": [
    "Anytime you encounter questions regarding time, you need to know if your data is in [`datetime`](https://docs.python.org/3.7/library/datetime.html) format. `datetime` objects make it easy to date and time calculation."
   ]
  },
  {
   "cell_type": "code",
   "execution_count": 6,
   "metadata": {},
   "outputs": [],
   "source": [
    "from datetime import datetime"
   ]
  },
  {
   "cell_type": "code",
   "execution_count": 7,
   "metadata": {},
   "outputs": [],
   "source": [
    "for sale in sales:\n",
    "    # transform DocumentDate from string to datetime\n",
    "    sale[\"clean_date\"] = datetime.strptime(sale[\"DocumentDate\"], \n",
    "                                           \"%m/%d/%Y\")\n",
    "    # store the sale year and month\n",
    "    sale[\"sale_year\"] = sale[\"clean_date\"].year\n",
    "    sale[\"sale_month\"] = sale[\"clean_date\"].month"
   ]
  },
  {
   "cell_type": "markdown",
   "metadata": {},
   "source": [
    "Let's inspect our work"
   ]
  },
  {
   "cell_type": "code",
   "execution_count": 8,
   "metadata": {},
   "outputs": [
    {
     "data": {
      "text/plain": [
       "OrderedDict([('ExciseTaxNbr', '2687551'),\n",
       "             ('Major', '138860'),\n",
       "             ('Minor', '0110'),\n",
       "             ('DocumentDate', '08/21/2014'),\n",
       "             ('SalePrice', '245000'),\n",
       "             ('RecordingNbr', '20140828001436'),\n",
       "             ('Volume', '   '),\n",
       "             ('Page', '   '),\n",
       "             ('PlatNbr', '      '),\n",
       "             ('PlatType', ' '),\n",
       "             ('PlatLot', '              '),\n",
       "             ('PlatBlock', '       '),\n",
       "             ('SellerName',\n",
       "              'WENKLE NOEL SMITH -TRUSTEE                        '),\n",
       "             ('BuyerName',\n",
       "              'ALEXANDER APRIL                                   '),\n",
       "             ('PropertyType', '3'),\n",
       "             ('PrincipalUse', '6'),\n",
       "             ('SaleInstrument', '3'),\n",
       "             ('AFForestLand', 'N'),\n",
       "             ('AFCurrentUseLand', 'N'),\n",
       "             ('AFNonProfitUse', 'N'),\n",
       "             ('AFHistoricProperty', 'N'),\n",
       "             ('SaleReason', '1'),\n",
       "             ('PropertyClass', '8'),\n",
       "             ('SaleWarning', ' '),\n",
       "             ('clean_date', datetime.datetime(2014, 8, 21, 0, 0)),\n",
       "             ('sale_year', 2014),\n",
       "             ('sale_month', 8)])"
      ]
     },
     "execution_count": 8,
     "metadata": {},
     "output_type": "execute_result"
    }
   ],
   "source": [
    "sales[0]"
   ]
  },
  {
   "cell_type": "markdown",
   "metadata": {},
   "source": [
    "For all dictionaries in `sales`, we want to count how many property sales occured in each year. Since the value in `sale_year` is an integer, we can used Python's built-in [`sorted`](https://docs.python.org/3/library/functions.html#sorted) function to transform the `Counter` object into a `list` of `tuples` - `(year, count)` which are sorted in ascending order by year."
   ]
  },
  {
   "cell_type": "code",
   "execution_count": 9,
   "metadata": {},
   "outputs": [
    {
     "data": {
      "text/plain": [
       "[(1900, 1),\n",
       " (1934, 1),\n",
       " (1951, 1),\n",
       " (1953, 1),\n",
       " (1954, 9),\n",
       " (1955, 3),\n",
       " (1956, 1),\n",
       " (1957, 3),\n",
       " (1958, 1),\n",
       " (1959, 4),\n",
       " (1960, 10),\n",
       " (1961, 5),\n",
       " (1962, 5),\n",
       " (1963, 9),\n",
       " (1964, 20),\n",
       " (1965, 11),\n",
       " (1966, 12),\n",
       " (1967, 18),\n",
       " (1968, 9),\n",
       " (1969, 20),\n",
       " (1970, 17),\n",
       " (1971, 14),\n",
       " (1972, 27),\n",
       " (1973, 45),\n",
       " (1974, 35),\n",
       " (1975, 43),\n",
       " (1976, 62),\n",
       " (1977, 97),\n",
       " (1978, 103),\n",
       " (1979, 124),\n",
       " (1980, 186),\n",
       " (1981, 408),\n",
       " (1982, 6035),\n",
       " (1983, 8607),\n",
       " (1984, 9199),\n",
       " (1985, 10557),\n",
       " (1986, 14627),\n",
       " (1987, 13575),\n",
       " (1988, 14190),\n",
       " (1989, 17232),\n",
       " (1990, 16606),\n",
       " (1991, 17525),\n",
       " (1992, 67859),\n",
       " (1993, 69456),\n",
       " (1994, 64912),\n",
       " (1995, 57982),\n",
       " (1996, 63652),\n",
       " (1997, 72090),\n",
       " (1998, 79578),\n",
       " (1999, 75237),\n",
       " (2000, 69874),\n",
       " (2001, 71261),\n",
       " (2002, 77033),\n",
       " (2003, 86299),\n",
       " (2004, 89383),\n",
       " (2005, 93485),\n",
       " (2006, 84729),\n",
       " (2007, 73250),\n",
       " (2008, 51802),\n",
       " (2009, 52385),\n",
       " (2010, 54688),\n",
       " (2011, 56181),\n",
       " (2012, 62444),\n",
       " (2013, 69403),\n",
       " (2014, 64261),\n",
       " (2015, 68913),\n",
       " (2016, 70421),\n",
       " (2017, 68397),\n",
       " (2018, 61035),\n",
       " (2019, 46157),\n",
       " (2021, 1)]"
      ]
     },
     "execution_count": 9,
     "metadata": {},
     "output_type": "execute_result"
    }
   ],
   "source": [
    "from collections import Counter\n",
    "\n",
    "sale_year_count = Counter([sale['sale_year'] for sale in sales])\n",
    "sale_year_count = sorted(sale_year_count.items())\n",
    "sale_year_count"
   ]
  },
  {
   "cell_type": "markdown",
   "metadata": {},
   "source": [
    "This `list` of `tuples` is not something our employers can use to make a decision. Before we visualize the results, let's create a new `visuals` folder that will store all of our visuals."
   ]
  },
  {
   "cell_type": "code",
   "execution_count": null,
   "metadata": {},
   "outputs": [],
   "source": [
    "!mkdir visuals"
   ]
  },
  {
   "cell_type": "code",
   "execution_count": 10,
   "metadata": {},
   "outputs": [],
   "source": [
    "from matplotlib import pyplot as plt"
   ]
  },
  {
   "cell_type": "code",
   "execution_count": 11,
   "metadata": {},
   "outputs": [
    {
     "data": {
      "image/png": "[encoded data removed]",
      "text/plain": [
       "<Figure size 720x360 with 1 Axes>"
      ]
     },
     "metadata": {
      "needs_background": "light"
     },
     "output_type": "display_data"
    }
   ],
   "source": [
    "# create a figure and one plot\n",
    "fig, ax = plt.subplots(nrows=1, ncols=1, figsize=(10, 5))\n",
    "\n",
    "# place data in a bar chart \n",
    "# where the x-axis is each year and \n",
    "# the y-axis is the number of sales per year\n",
    "ax.bar(x=[sale[0] for sale in sale_year_count],\n",
    "       height=[sale[1] for sale in sale_year_count])\n",
    "\n",
    "# set axis labels\n",
    "ax.set_xlabel(\"Year\")\n",
    "ax.set_ylabel(\"Number of property sales\")\n",
    "\n",
    "# give the bar chart a title\n",
    "ax.set_title(\"Property sales in King County, WA (1900 to 2021)\")\n",
    "\n",
    "# save a copy of the figure as a PNG\n",
    "fig.savefig(\"visuals/raw_sales_count_by_year.png\",\n",
    "            dpi=150)\n",
    "\n",
    "# display bar chart clearly\n",
    "fig.tight_layout()"
   ]
  },
  {
   "cell_type": "markdown",
   "metadata": {},
   "source": [
    "By the looks of our number of property sales over time bar plot, it looks like property sales in King County, WA started taking off in the 1980s. They continued climbing into the early 2000s. Despite the recession reducing the number of home sales in the late 2000s, it looks like they are continuing to climb."
   ]
  },
  {
   "cell_type": "markdown",
   "metadata": {},
   "source": [
    "### 2. After removing the one record that took place in 2021, what is the annual average [nominal](https://www.stlouisfed.org/publications/inside-the-vault/fall-2007/nominal-vs-real-oil-prices) property sales price in King County, WA?"
   ]
  },
  {
   "cell_type": "code",
   "execution_count": 61,
   "metadata": {},
   "outputs": [
    {
     "name": "stdout",
     "output_type": "stream",
     "text": [
      "After removing the one record that took place in 2021, the annual average nominal property sales price in King County, WA is the following.\n"
     ]
    },
    {
     "data": {
      "text/plain": [
       "{2014: 707299.5963959477,\n",
       " 1991: 157800.2352639087,\n",
       " 2013: 2263784.6740054465,\n",
       " 1989: 192114.53905524604,\n",
       " 2003: 830588.2984507353,\n",
       " 2001: 334655.9206578634,\n",
       " 2006: 653891.0061254116,\n",
       " 2012: 699706.1823233617,\n",
       " 1998: 344452.9315757065,\n",
       " 2008: 484718.21879464114,\n",
       " 2000: 348667.3896299053,\n",
       " 2015: 1633589.233497308,\n",
       " 1999: 305786.39033985935,\n",
       " 2004: 567604.2017184668,\n",
       " 1983: 133941.1426745672,\n",
       " 1982: 76558.60165700082,\n",
       " 1987: 93310.49635359117,\n",
       " 2017: 837697.2515168794,\n",
       " 1990: 213005.85246296518,\n",
       " 2009: 320127.1900544049,\n",
       " 2002: 436162.47564031,\n",
       " 2005: 653167.7025833022,\n",
       " 2019: 994489.256082501,\n",
       " 1992: 157975.396292312,\n",
       " 2016: 842218.8185200437,\n",
       " 2011: 469999.7182677418,\n",
       " 1997: 379161.60138715495,\n",
       " 1993: 196968.15095888043,\n",
       " 1988: 125545.04651162791,\n",
       " 1995: 176638.09744403436,\n",
       " 2010: 614287.8805588064,\n",
       " 1996: 230788.1239395463,\n",
       " 2007: 757755.989665529,\n",
       " 1994: 182153.80562915947,\n",
       " 2018: 1007605.6118456624,\n",
       " 1985: 190372.29411764705,\n",
       " 1986: 257986.3231694811,\n",
       " 1974: 2102.9714285714285,\n",
       " 1984: 162403.67442113275,\n",
       " 1966: 7916.666666666667,\n",
       " 1981: 61046.18382352941,\n",
       " 1971: 4082.1428571428573,\n",
       " 1958: 0.0,\n",
       " 1980: 4578.134408602151,\n",
       " 1979: 3751.1290322580644,\n",
       " 1975: 7236.627906976744,\n",
       " 1976: 2710.564516129032,\n",
       " 1978: 12240.097087378641,\n",
       " 1977: 2304.7938144329896,\n",
       " 1970: 5500.0,\n",
       " 1957: 0.0,\n",
       " 1972: 5092.592592592592,\n",
       " 1960: 730.0,\n",
       " 1973: 2492.4444444444443,\n",
       " 1954: 186.66666666666666,\n",
       " 1964: 4213.75,\n",
       " 1967: 3625.0,\n",
       " 1955: 3166.6666666666665,\n",
       " 1968: 7088.888888888889,\n",
       " 1969: 3624.2,\n",
       " 1963: 1833.3333333333333,\n",
       " 1962: 5669.2,\n",
       " 2021: 795000.0,\n",
       " 1961: 2163.0,\n",
       " 1959: 3062.5,\n",
       " 1965: 6138.0,\n",
       " 1934: 125000.0,\n",
       " 1951: 0.0,\n",
       " 1900: 0.0,\n",
       " 1953: 0.0,\n",
       " 1956: 0.0}"
      ]
     },
     "execution_count": 61,
     "metadata": {},
     "output_type": "execute_result"
    }
   ],
   "source": [
    "new_sales_dict = {}\n",
    "\n",
    "del sales[-1]\n",
    "for item in sales:\n",
    "    SY = item[\"sale_year\"]\n",
    "    SP = item[\"SalePrice\"]\n",
    "    if SY not in new_sales_dict:\n",
    "        new_sales_dict[SY] = []\n",
    "    new_sales_dict[SY].append(float(SP))\n",
    "\n",
    "for year in new_sales_dict:\n",
    "    new_sales_dict[year] = sum(new_sales_dict[year])/len(new_sales_dict[year])\n",
    "\n",
    "print(\"After removing the one record that took place in 2021, the annual average nominal property sales price in King County, WA is the following.\")\n",
    "new_sales_dict"
   ]
  },
  {
   "cell_type": "code",
   "execution_count": 62,
   "metadata": {},
   "outputs": [],
   "source": [
    "#sales[0][\"SalePrice\"]"
   ]
  },
  {
   "cell_type": "code",
   "execution_count": 63,
   "metadata": {},
   "outputs": [],
   "source": [
    "# test_sale_year_count = sale_year_count\n",
    "# del test_sale_year_count[-1]\n",
    "# test_sale_year_count\n",
    "# # test_sale_year_count[0][1]\n",
    "# # sales\n",
    "\n",
    "# my_sum = 0\n",
    "# for elem in test_sale_year_count:\n",
    "#     my_sum +=  elem[1]\n",
    "    \n",
    "# val = my_sum/len(test_sale_year_count)\n",
    "# val"
   ]
  },
  {
   "cell_type": "code",
   "execution_count": 64,
   "metadata": {},
   "outputs": [],
   "source": [
    "# test_sales = sales\n",
    "\n",
    "# #make a new dict from old with goal keys\n",
    "# goal_keys = ['sale_year', 'SalePrice']\n",
    "\n",
    "# #\n",
    "\n",
    "# sales[0]['sale_year']"
   ]
  },
  {
   "cell_type": "code",
   "execution_count": 55,
   "metadata": {},
   "outputs": [],
   "source": [
    "# test_sales = sales\n",
    "# price_year = []\n",
    "\n",
    "# #first group by total for year\n",
    "# #then divide ==> 2 counters\n",
    "\n",
    "# number_of_sales_per_year = 0\n",
    "# sum_of_sales_per_year = 0\n",
    "\n",
    "# for element in test_sales:\n",
    "#     for item in sale_year_count:\n",
    "#         if item[0] == element['sale_year']:\n",
    "#             number_of_sales_per_year += 1\n",
    "#             sum_of_sales_per_year += int(element['SalePrice'])\n",
    "#             element['sale_year'] = (sum_of_sales_per_year, number_of_sales_per_year)\n"
   ]
  },
  {
   "cell_type": "markdown",
   "metadata": {},
   "source": [
    "### 3. Which property has been sold the most in King County, WA throughout time?\n",
    "\n",
    "This questions requires you to create a <strong>P</strong>arcel <strong>I</strong>dentification <strong>N</strong>umber (PIN). To learn how to do this, read the \"Attribute Information\" section on the Parcel webpage from the [King County Geographic Information System (KCGI)](https://www5.kingcounty.gov/sdc/Metadata.aspx?Layer=parcel)."
   ]
  },
  {
   "cell_type": "code",
   "execution_count": 59,
   "metadata": {},
   "outputs": [
    {
     "name": "stdout",
     "output_type": "stream",
     "text": [
      "The property with the PIN 0984000380 has been sold the most in King County, WA throughout time.\n"
     ]
    }
   ],
   "source": [
    "#PIN = int(str(sales[0][\"Major\"]) + str(sales[0][\"Minor\"]))\n",
    "#print(PIN) new_dict_3 = {}\n",
    "\n",
    "for item in sales: \n",
    "    PIN = str(item[\"Major\"]) + str(item[\"Minor\"]) \n",
    "    if PIN not in new_dict_3: \n",
    "        new_dict_3[PIN] = []\n",
    "        new_dict_3[PIN].append(1)\n",
    "\n",
    "print('The property with the PIN ' + max(new_dict_3, key=lambda x:x[1]) + ' has been sold the most in King County, WA throughout time.')"
   ]
  },
  {
   "cell_type": "markdown",
   "metadata": {},
   "source": [
    "### 4. Who are the top 5 sellers in terms of who has sold the most property in King County, WA throughout time?"
   ]
  },
  {
   "cell_type": "code",
   "execution_count": null,
   "metadata": {},
   "outputs": [],
   "source": [
    "# 'SellerName'\n",
    "\n",
    "new_dict_4 = {}\n",
    "\n"
   ]
  },
  {
   "cell_type": "markdown",
   "metadata": {},
   "source": [
    "### 5. From 2009 to 2019, which buyer has bought the most property in King County, WA?"
   ]
  },
  {
   "cell_type": "code",
   "execution_count": null,
   "metadata": {},
   "outputs": [],
   "source": []
  }
 ],
 "metadata": {
  "kernelspec": {
   "display_name": "Python [conda env:learn-env] *",
   "language": "python",
   "name": "conda-env-learn-env-py"
  },
  "language_info": {
   "codemirror_mode": {
    "name": "ipython",
    "version": 3
   },
   "file_extension": ".py",
   "mimetype": "text/x-python",
   "name": "python",
   "nbconvert_exporter": "python",
   "pygments_lexer": "ipython3",
   "version": "3.6.6"
  }
 },
 "nbformat": 4,
 "nbformat_minor": 2
}
